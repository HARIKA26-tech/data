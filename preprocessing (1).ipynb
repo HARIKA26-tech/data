{
 "cells": [
  {
   "cell_type": "code",
   "execution_count": null,
   "id": "dc0c5636-bd5e-4268-a5ea-457ec4206dac",
   "metadata": {},
   "outputs": [],
   "source": [
    "import pandas as pd\n",
    "\n",
    "# Load the dataset\n",
    "file_path = \"D:/dataset DA/Netflix_Movies_and_TV_Shows.csv\"\n",
    "df = pd.read_csv(file_path)\n",
    "\n",
    "print(\"Initial data shape:\", df.shape)\n",
    "print(\"\\nFirst 5 rows of the raw dataset:\")\n",
    "print(df.head())\n",
    "\n",
    "# Check missing values\n",
    "print(\"\\nMissing values per column:\")\n",
    "print(df.isnull().sum())\n",
    "\n",
    "# Check duplicates\n",
    "print(\"\\nNumber of duplicate rows:\", df.duplicated().sum())\n",
    "\n",
    "# Standardize column headers\n",
    "df.columns = df.columns.str.strip().str.lower().str.replace(' ', '_')\n",
    "print(\"\\nCleaned column names:\")\n",
    "print(df.columns.tolist())\n",
    "\n",
    "# Split \"duration\" into numeric and unit parts\n",
    "parts = df['duration'].str.split(' ', n=1, expand=True)\n",
    "df['duration_int']  = parts[0].astype(int)\n",
    "df['duration_type'] = parts[1].str.capitalize()\n",
    "\n",
    "# Standardize country names\n",
    "df['country'] = df['country'].str.strip().str.title()\n",
    "print(\"\\nStandardized country names (first 5 rows):\")\n",
    "print(df[['country']].head())\n",
    "\n",
    "# Check data types (no date column to convert here)\n",
    "print(\"\\nData types after cleaning:\")\n",
    "print(df.dtypes)\n",
    "\n",
    "# Save the cleaned dataset\n",
    "cleaned_file_path = \"Netflix_Movies_and_TV_Shows_Cleaned.csv\"\n",
    "df.to_csv(cleaned_file_path, index=False)\n",
    "print(f\"\\nCleaned dataset saved to: {cleaned_file_path}\")\n"
   ]
  }
 ],
 "metadata": {
  "kernelspec": {
   "display_name": "Python 3 (ipykernel)",
   "language": "python",
   "name": "python3"
  },
  "language_info": {
   "codemirror_mode": {
    "name": "ipython",
    "version": 3
   },
   "file_extension": ".py",
   "mimetype": "text/x-python",
   "name": "python",
   "nbconvert_exporter": "python",
   "pygments_lexer": "ipython3",
   "version": "3.12.7"
  }
 },
 "nbformat": 4,
 "nbformat_minor": 5
}
